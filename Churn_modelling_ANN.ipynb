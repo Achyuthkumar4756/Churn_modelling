{
 "cells": [
  {
   "cell_type": "markdown",
   "id": "b8a08525-f7df-4f6c-b2e3-b22132545dea",
   "metadata": {},
   "source": [
    "### Importing neccesary libraries"
   ]
  },
  {
   "cell_type": "code",
   "execution_count": 1,
   "id": "10427a66-0439-462d-a230-2d8925e96acd",
   "metadata": {},
   "outputs": [],
   "source": [
    "import pandas as pd\n",
    "import numpy as np\n",
    "import matplotlib.pyplot as plt\n",
    "import seaborn as sns\n",
    "import warnings\n",
    "warnings.filterwarnings('ignore')"
   ]
  },
  {
   "cell_type": "code",
   "execution_count": 2,
   "id": "9cd67599-c5de-4d42-a0ed-604428395f33",
   "metadata": {},
   "outputs": [],
   "source": [
    "data = pd.read_csv('Churn_Modelling.csv')"
   ]
  },
  {
   "cell_type": "code",
   "execution_count": 3,
   "id": "7c1a6177-8b07-45ec-8813-695d2a157d09",
   "metadata": {},
   "outputs": [
    {
     "data": {
      "text/html": [
       "<div>\n",
       "<style scoped>\n",
       "    .dataframe tbody tr th:only-of-type {\n",
       "        vertical-align: middle;\n",
       "    }\n",
       "\n",
       "    .dataframe tbody tr th {\n",
       "        vertical-align: top;\n",
       "    }\n",
       "\n",
       "    .dataframe thead th {\n",
       "        text-align: right;\n",
       "    }\n",
       "</style>\n",
       "<table border=\"1\" class=\"dataframe\">\n",
       "  <thead>\n",
       "    <tr style=\"text-align: right;\">\n",
       "      <th></th>\n",
       "      <th>RowNumber</th>\n",
       "      <th>CustomerId</th>\n",
       "      <th>Surname</th>\n",
       "      <th>CreditScore</th>\n",
       "      <th>Geography</th>\n",
       "      <th>Gender</th>\n",
       "      <th>Age</th>\n",
       "      <th>Tenure</th>\n",
       "      <th>Balance</th>\n",
       "      <th>NumOfProducts</th>\n",
       "      <th>HasCrCard</th>\n",
       "      <th>IsActiveMember</th>\n",
       "      <th>EstimatedSalary</th>\n",
       "      <th>Exited</th>\n",
       "    </tr>\n",
       "  </thead>\n",
       "  <tbody>\n",
       "    <tr>\n",
       "      <th>0</th>\n",
       "      <td>1</td>\n",
       "      <td>15634602</td>\n",
       "      <td>Hargrave</td>\n",
       "      <td>619</td>\n",
       "      <td>France</td>\n",
       "      <td>Female</td>\n",
       "      <td>42</td>\n",
       "      <td>2</td>\n",
       "      <td>0.00</td>\n",
       "      <td>1</td>\n",
       "      <td>1</td>\n",
       "      <td>1</td>\n",
       "      <td>101348.88</td>\n",
       "      <td>1</td>\n",
       "    </tr>\n",
       "    <tr>\n",
       "      <th>1</th>\n",
       "      <td>2</td>\n",
       "      <td>15647311</td>\n",
       "      <td>Hill</td>\n",
       "      <td>608</td>\n",
       "      <td>Spain</td>\n",
       "      <td>Female</td>\n",
       "      <td>41</td>\n",
       "      <td>1</td>\n",
       "      <td>83807.86</td>\n",
       "      <td>1</td>\n",
       "      <td>0</td>\n",
       "      <td>1</td>\n",
       "      <td>112542.58</td>\n",
       "      <td>0</td>\n",
       "    </tr>\n",
       "    <tr>\n",
       "      <th>2</th>\n",
       "      <td>3</td>\n",
       "      <td>15619304</td>\n",
       "      <td>Onio</td>\n",
       "      <td>502</td>\n",
       "      <td>France</td>\n",
       "      <td>Female</td>\n",
       "      <td>42</td>\n",
       "      <td>8</td>\n",
       "      <td>159660.80</td>\n",
       "      <td>3</td>\n",
       "      <td>1</td>\n",
       "      <td>0</td>\n",
       "      <td>113931.57</td>\n",
       "      <td>1</td>\n",
       "    </tr>\n",
       "    <tr>\n",
       "      <th>3</th>\n",
       "      <td>4</td>\n",
       "      <td>15701354</td>\n",
       "      <td>Boni</td>\n",
       "      <td>699</td>\n",
       "      <td>France</td>\n",
       "      <td>Female</td>\n",
       "      <td>39</td>\n",
       "      <td>1</td>\n",
       "      <td>0.00</td>\n",
       "      <td>2</td>\n",
       "      <td>0</td>\n",
       "      <td>0</td>\n",
       "      <td>93826.63</td>\n",
       "      <td>0</td>\n",
       "    </tr>\n",
       "    <tr>\n",
       "      <th>4</th>\n",
       "      <td>5</td>\n",
       "      <td>15737888</td>\n",
       "      <td>Mitchell</td>\n",
       "      <td>850</td>\n",
       "      <td>Spain</td>\n",
       "      <td>Female</td>\n",
       "      <td>43</td>\n",
       "      <td>2</td>\n",
       "      <td>125510.82</td>\n",
       "      <td>1</td>\n",
       "      <td>1</td>\n",
       "      <td>1</td>\n",
       "      <td>79084.10</td>\n",
       "      <td>0</td>\n",
       "    </tr>\n",
       "  </tbody>\n",
       "</table>\n",
       "</div>"
      ],
      "text/plain": [
       "   RowNumber  CustomerId   Surname  CreditScore Geography  Gender  Age  \\\n",
       "0          1    15634602  Hargrave          619    France  Female   42   \n",
       "1          2    15647311      Hill          608     Spain  Female   41   \n",
       "2          3    15619304      Onio          502    France  Female   42   \n",
       "3          4    15701354      Boni          699    France  Female   39   \n",
       "4          5    15737888  Mitchell          850     Spain  Female   43   \n",
       "\n",
       "   Tenure    Balance  NumOfProducts  HasCrCard  IsActiveMember  \\\n",
       "0       2       0.00              1          1               1   \n",
       "1       1   83807.86              1          0               1   \n",
       "2       8  159660.80              3          1               0   \n",
       "3       1       0.00              2          0               0   \n",
       "4       2  125510.82              1          1               1   \n",
       "\n",
       "   EstimatedSalary  Exited  \n",
       "0        101348.88       1  \n",
       "1        112542.58       0  \n",
       "2        113931.57       1  \n",
       "3         93826.63       0  \n",
       "4         79084.10       0  "
      ]
     },
     "execution_count": 3,
     "metadata": {},
     "output_type": "execute_result"
    }
   ],
   "source": [
    "data.head()"
   ]
  },
  {
   "cell_type": "markdown",
   "id": "9d4a4789-d9f9-4a9e-aa2c-11b9cfde6907",
   "metadata": {},
   "source": [
    "### Data Preprocessing"
   ]
  },
  {
   "cell_type": "code",
   "execution_count": 4,
   "id": "b6f205ab-0f6e-4722-8b7c-22f47db51c39",
   "metadata": {},
   "outputs": [],
   "source": [
    "from sklearn.preprocessing import LabelEncoder\n",
    "Le = LabelEncoder()"
   ]
  },
  {
   "cell_type": "code",
   "execution_count": 5,
   "id": "dec752f8-6a80-4512-908c-f05ed3f53ffc",
   "metadata": {},
   "outputs": [],
   "source": [
    "data['Geography']=Le.fit_transform(data['Geography']) # 0 = France , 2 = Spain, 1 = Germany\n",
    "data['Gender']=Le.fit_transform(data['Gender']) #  0 = Female , 1 = Male "
   ]
  },
  {
   "cell_type": "code",
   "execution_count": 6,
   "id": "560abaac-241f-41e9-a985-41f9863140dd",
   "metadata": {},
   "outputs": [
    {
     "data": {
      "text/html": [
       "<div>\n",
       "<style scoped>\n",
       "    .dataframe tbody tr th:only-of-type {\n",
       "        vertical-align: middle;\n",
       "    }\n",
       "\n",
       "    .dataframe tbody tr th {\n",
       "        vertical-align: top;\n",
       "    }\n",
       "\n",
       "    .dataframe thead th {\n",
       "        text-align: right;\n",
       "    }\n",
       "</style>\n",
       "<table border=\"1\" class=\"dataframe\">\n",
       "  <thead>\n",
       "    <tr style=\"text-align: right;\">\n",
       "      <th></th>\n",
       "      <th>RowNumber</th>\n",
       "      <th>CustomerId</th>\n",
       "      <th>Surname</th>\n",
       "      <th>CreditScore</th>\n",
       "      <th>Geography</th>\n",
       "      <th>Gender</th>\n",
       "      <th>Age</th>\n",
       "      <th>Tenure</th>\n",
       "      <th>Balance</th>\n",
       "      <th>NumOfProducts</th>\n",
       "      <th>HasCrCard</th>\n",
       "      <th>IsActiveMember</th>\n",
       "      <th>EstimatedSalary</th>\n",
       "      <th>Exited</th>\n",
       "    </tr>\n",
       "  </thead>\n",
       "  <tbody>\n",
       "    <tr>\n",
       "      <th>0</th>\n",
       "      <td>1</td>\n",
       "      <td>15634602</td>\n",
       "      <td>Hargrave</td>\n",
       "      <td>619</td>\n",
       "      <td>0</td>\n",
       "      <td>0</td>\n",
       "      <td>42</td>\n",
       "      <td>2</td>\n",
       "      <td>0.00</td>\n",
       "      <td>1</td>\n",
       "      <td>1</td>\n",
       "      <td>1</td>\n",
       "      <td>101348.88</td>\n",
       "      <td>1</td>\n",
       "    </tr>\n",
       "    <tr>\n",
       "      <th>1</th>\n",
       "      <td>2</td>\n",
       "      <td>15647311</td>\n",
       "      <td>Hill</td>\n",
       "      <td>608</td>\n",
       "      <td>2</td>\n",
       "      <td>0</td>\n",
       "      <td>41</td>\n",
       "      <td>1</td>\n",
       "      <td>83807.86</td>\n",
       "      <td>1</td>\n",
       "      <td>0</td>\n",
       "      <td>1</td>\n",
       "      <td>112542.58</td>\n",
       "      <td>0</td>\n",
       "    </tr>\n",
       "    <tr>\n",
       "      <th>2</th>\n",
       "      <td>3</td>\n",
       "      <td>15619304</td>\n",
       "      <td>Onio</td>\n",
       "      <td>502</td>\n",
       "      <td>0</td>\n",
       "      <td>0</td>\n",
       "      <td>42</td>\n",
       "      <td>8</td>\n",
       "      <td>159660.80</td>\n",
       "      <td>3</td>\n",
       "      <td>1</td>\n",
       "      <td>0</td>\n",
       "      <td>113931.57</td>\n",
       "      <td>1</td>\n",
       "    </tr>\n",
       "    <tr>\n",
       "      <th>3</th>\n",
       "      <td>4</td>\n",
       "      <td>15701354</td>\n",
       "      <td>Boni</td>\n",
       "      <td>699</td>\n",
       "      <td>0</td>\n",
       "      <td>0</td>\n",
       "      <td>39</td>\n",
       "      <td>1</td>\n",
       "      <td>0.00</td>\n",
       "      <td>2</td>\n",
       "      <td>0</td>\n",
       "      <td>0</td>\n",
       "      <td>93826.63</td>\n",
       "      <td>0</td>\n",
       "    </tr>\n",
       "    <tr>\n",
       "      <th>4</th>\n",
       "      <td>5</td>\n",
       "      <td>15737888</td>\n",
       "      <td>Mitchell</td>\n",
       "      <td>850</td>\n",
       "      <td>2</td>\n",
       "      <td>0</td>\n",
       "      <td>43</td>\n",
       "      <td>2</td>\n",
       "      <td>125510.82</td>\n",
       "      <td>1</td>\n",
       "      <td>1</td>\n",
       "      <td>1</td>\n",
       "      <td>79084.10</td>\n",
       "      <td>0</td>\n",
       "    </tr>\n",
       "    <tr>\n",
       "      <th>...</th>\n",
       "      <td>...</td>\n",
       "      <td>...</td>\n",
       "      <td>...</td>\n",
       "      <td>...</td>\n",
       "      <td>...</td>\n",
       "      <td>...</td>\n",
       "      <td>...</td>\n",
       "      <td>...</td>\n",
       "      <td>...</td>\n",
       "      <td>...</td>\n",
       "      <td>...</td>\n",
       "      <td>...</td>\n",
       "      <td>...</td>\n",
       "      <td>...</td>\n",
       "    </tr>\n",
       "    <tr>\n",
       "      <th>9995</th>\n",
       "      <td>9996</td>\n",
       "      <td>15606229</td>\n",
       "      <td>Obijiaku</td>\n",
       "      <td>771</td>\n",
       "      <td>0</td>\n",
       "      <td>1</td>\n",
       "      <td>39</td>\n",
       "      <td>5</td>\n",
       "      <td>0.00</td>\n",
       "      <td>2</td>\n",
       "      <td>1</td>\n",
       "      <td>0</td>\n",
       "      <td>96270.64</td>\n",
       "      <td>0</td>\n",
       "    </tr>\n",
       "    <tr>\n",
       "      <th>9996</th>\n",
       "      <td>9997</td>\n",
       "      <td>15569892</td>\n",
       "      <td>Johnstone</td>\n",
       "      <td>516</td>\n",
       "      <td>0</td>\n",
       "      <td>1</td>\n",
       "      <td>35</td>\n",
       "      <td>10</td>\n",
       "      <td>57369.61</td>\n",
       "      <td>1</td>\n",
       "      <td>1</td>\n",
       "      <td>1</td>\n",
       "      <td>101699.77</td>\n",
       "      <td>0</td>\n",
       "    </tr>\n",
       "    <tr>\n",
       "      <th>9997</th>\n",
       "      <td>9998</td>\n",
       "      <td>15584532</td>\n",
       "      <td>Liu</td>\n",
       "      <td>709</td>\n",
       "      <td>0</td>\n",
       "      <td>0</td>\n",
       "      <td>36</td>\n",
       "      <td>7</td>\n",
       "      <td>0.00</td>\n",
       "      <td>1</td>\n",
       "      <td>0</td>\n",
       "      <td>1</td>\n",
       "      <td>42085.58</td>\n",
       "      <td>1</td>\n",
       "    </tr>\n",
       "    <tr>\n",
       "      <th>9998</th>\n",
       "      <td>9999</td>\n",
       "      <td>15682355</td>\n",
       "      <td>Sabbatini</td>\n",
       "      <td>772</td>\n",
       "      <td>1</td>\n",
       "      <td>1</td>\n",
       "      <td>42</td>\n",
       "      <td>3</td>\n",
       "      <td>75075.31</td>\n",
       "      <td>2</td>\n",
       "      <td>1</td>\n",
       "      <td>0</td>\n",
       "      <td>92888.52</td>\n",
       "      <td>1</td>\n",
       "    </tr>\n",
       "    <tr>\n",
       "      <th>9999</th>\n",
       "      <td>10000</td>\n",
       "      <td>15628319</td>\n",
       "      <td>Walker</td>\n",
       "      <td>792</td>\n",
       "      <td>0</td>\n",
       "      <td>0</td>\n",
       "      <td>28</td>\n",
       "      <td>4</td>\n",
       "      <td>130142.79</td>\n",
       "      <td>1</td>\n",
       "      <td>1</td>\n",
       "      <td>0</td>\n",
       "      <td>38190.78</td>\n",
       "      <td>0</td>\n",
       "    </tr>\n",
       "  </tbody>\n",
       "</table>\n",
       "<p>10000 rows × 14 columns</p>\n",
       "</div>"
      ],
      "text/plain": [
       "      RowNumber  CustomerId    Surname  CreditScore  Geography  Gender  Age  \\\n",
       "0             1    15634602   Hargrave          619          0       0   42   \n",
       "1             2    15647311       Hill          608          2       0   41   \n",
       "2             3    15619304       Onio          502          0       0   42   \n",
       "3             4    15701354       Boni          699          0       0   39   \n",
       "4             5    15737888   Mitchell          850          2       0   43   \n",
       "...         ...         ...        ...          ...        ...     ...  ...   \n",
       "9995       9996    15606229   Obijiaku          771          0       1   39   \n",
       "9996       9997    15569892  Johnstone          516          0       1   35   \n",
       "9997       9998    15584532        Liu          709          0       0   36   \n",
       "9998       9999    15682355  Sabbatini          772          1       1   42   \n",
       "9999      10000    15628319     Walker          792          0       0   28   \n",
       "\n",
       "      Tenure    Balance  NumOfProducts  HasCrCard  IsActiveMember  \\\n",
       "0          2       0.00              1          1               1   \n",
       "1          1   83807.86              1          0               1   \n",
       "2          8  159660.80              3          1               0   \n",
       "3          1       0.00              2          0               0   \n",
       "4          2  125510.82              1          1               1   \n",
       "...      ...        ...            ...        ...             ...   \n",
       "9995       5       0.00              2          1               0   \n",
       "9996      10   57369.61              1          1               1   \n",
       "9997       7       0.00              1          0               1   \n",
       "9998       3   75075.31              2          1               0   \n",
       "9999       4  130142.79              1          1               0   \n",
       "\n",
       "      EstimatedSalary  Exited  \n",
       "0           101348.88       1  \n",
       "1           112542.58       0  \n",
       "2           113931.57       1  \n",
       "3            93826.63       0  \n",
       "4            79084.10       0  \n",
       "...               ...     ...  \n",
       "9995         96270.64       0  \n",
       "9996        101699.77       0  \n",
       "9997         42085.58       1  \n",
       "9998         92888.52       1  \n",
       "9999         38190.78       0  \n",
       "\n",
       "[10000 rows x 14 columns]"
      ]
     },
     "execution_count": 6,
     "metadata": {},
     "output_type": "execute_result"
    }
   ],
   "source": [
    "data"
   ]
  },
  {
   "cell_type": "code",
   "execution_count": 7,
   "id": "a9224349-d1b6-4749-a562-bd136365eedb",
   "metadata": {},
   "outputs": [],
   "source": [
    "X = data.iloc[:,3:13]\n",
    "y = data.iloc[:,13]"
   ]
  },
  {
   "cell_type": "code",
   "execution_count": 8,
   "id": "19ffb976-f2f0-4eea-b38b-a118378017ee",
   "metadata": {},
   "outputs": [
    {
     "data": {
      "text/html": [
       "<div>\n",
       "<style scoped>\n",
       "    .dataframe tbody tr th:only-of-type {\n",
       "        vertical-align: middle;\n",
       "    }\n",
       "\n",
       "    .dataframe tbody tr th {\n",
       "        vertical-align: top;\n",
       "    }\n",
       "\n",
       "    .dataframe thead th {\n",
       "        text-align: right;\n",
       "    }\n",
       "</style>\n",
       "<table border=\"1\" class=\"dataframe\">\n",
       "  <thead>\n",
       "    <tr style=\"text-align: right;\">\n",
       "      <th></th>\n",
       "      <th>CreditScore</th>\n",
       "      <th>Geography</th>\n",
       "      <th>Gender</th>\n",
       "      <th>Age</th>\n",
       "      <th>Tenure</th>\n",
       "      <th>Balance</th>\n",
       "      <th>NumOfProducts</th>\n",
       "      <th>HasCrCard</th>\n",
       "      <th>IsActiveMember</th>\n",
       "      <th>EstimatedSalary</th>\n",
       "    </tr>\n",
       "  </thead>\n",
       "  <tbody>\n",
       "    <tr>\n",
       "      <th>0</th>\n",
       "      <td>619</td>\n",
       "      <td>0</td>\n",
       "      <td>0</td>\n",
       "      <td>42</td>\n",
       "      <td>2</td>\n",
       "      <td>0.00</td>\n",
       "      <td>1</td>\n",
       "      <td>1</td>\n",
       "      <td>1</td>\n",
       "      <td>101348.88</td>\n",
       "    </tr>\n",
       "    <tr>\n",
       "      <th>1</th>\n",
       "      <td>608</td>\n",
       "      <td>2</td>\n",
       "      <td>0</td>\n",
       "      <td>41</td>\n",
       "      <td>1</td>\n",
       "      <td>83807.86</td>\n",
       "      <td>1</td>\n",
       "      <td>0</td>\n",
       "      <td>1</td>\n",
       "      <td>112542.58</td>\n",
       "    </tr>\n",
       "    <tr>\n",
       "      <th>2</th>\n",
       "      <td>502</td>\n",
       "      <td>0</td>\n",
       "      <td>0</td>\n",
       "      <td>42</td>\n",
       "      <td>8</td>\n",
       "      <td>159660.80</td>\n",
       "      <td>3</td>\n",
       "      <td>1</td>\n",
       "      <td>0</td>\n",
       "      <td>113931.57</td>\n",
       "    </tr>\n",
       "    <tr>\n",
       "      <th>3</th>\n",
       "      <td>699</td>\n",
       "      <td>0</td>\n",
       "      <td>0</td>\n",
       "      <td>39</td>\n",
       "      <td>1</td>\n",
       "      <td>0.00</td>\n",
       "      <td>2</td>\n",
       "      <td>0</td>\n",
       "      <td>0</td>\n",
       "      <td>93826.63</td>\n",
       "    </tr>\n",
       "    <tr>\n",
       "      <th>4</th>\n",
       "      <td>850</td>\n",
       "      <td>2</td>\n",
       "      <td>0</td>\n",
       "      <td>43</td>\n",
       "      <td>2</td>\n",
       "      <td>125510.82</td>\n",
       "      <td>1</td>\n",
       "      <td>1</td>\n",
       "      <td>1</td>\n",
       "      <td>79084.10</td>\n",
       "    </tr>\n",
       "  </tbody>\n",
       "</table>\n",
       "</div>"
      ],
      "text/plain": [
       "   CreditScore  Geography  Gender  Age  Tenure    Balance  NumOfProducts  \\\n",
       "0          619          0       0   42       2       0.00              1   \n",
       "1          608          2       0   41       1   83807.86              1   \n",
       "2          502          0       0   42       8  159660.80              3   \n",
       "3          699          0       0   39       1       0.00              2   \n",
       "4          850          2       0   43       2  125510.82              1   \n",
       "\n",
       "   HasCrCard  IsActiveMember  EstimatedSalary  \n",
       "0          1               1        101348.88  \n",
       "1          0               1        112542.58  \n",
       "2          1               0        113931.57  \n",
       "3          0               0         93826.63  \n",
       "4          1               1         79084.10  "
      ]
     },
     "execution_count": 8,
     "metadata": {},
     "output_type": "execute_result"
    }
   ],
   "source": [
    "X.head()"
   ]
  },
  {
   "cell_type": "code",
   "execution_count": 9,
   "id": "5e7a9302-185f-48ae-9715-7a5a8d9b0a7f",
   "metadata": {},
   "outputs": [
    {
     "data": {
      "text/plain": [
       "0       1\n",
       "1       0\n",
       "2       1\n",
       "3       0\n",
       "4       0\n",
       "       ..\n",
       "9995    0\n",
       "9996    0\n",
       "9997    1\n",
       "9998    1\n",
       "9999    0\n",
       "Name: Exited, Length: 10000, dtype: int64"
      ]
     },
     "execution_count": 9,
     "metadata": {},
     "output_type": "execute_result"
    }
   ],
   "source": [
    "y "
   ]
  },
  {
   "cell_type": "markdown",
   "id": "a8c9f1fe-9bbc-430e-951a-0a2f6380f1cf",
   "metadata": {},
   "source": [
    "### Train_test_split"
   ]
  },
  {
   "cell_type": "code",
   "execution_count": 10,
   "id": "dc03c266-24be-4196-ae94-c1dbc8b7b7b2",
   "metadata": {},
   "outputs": [],
   "source": [
    "from sklearn.model_selection import train_test_split"
   ]
  },
  {
   "cell_type": "code",
   "execution_count": 11,
   "id": "2a69f029-6508-4656-a68e-07b9c685d1ef",
   "metadata": {},
   "outputs": [],
   "source": [
    "X_train,X_test,y_train,y_test = train_test_split(X,y,test_size=0.2,random_state=42)"
   ]
  },
  {
   "cell_type": "code",
   "execution_count": 12,
   "id": "0fe76cc7-081f-4e58-b1b4-109ef0e6dc60",
   "metadata": {},
   "outputs": [
    {
     "data": {
      "text/plain": [
       "((2000, 10), (8000, 10), (8000,), (2000,))"
      ]
     },
     "execution_count": 12,
     "metadata": {},
     "output_type": "execute_result"
    }
   ],
   "source": [
    "X_test.shape,X_train.shape,y_train.shape,y_test.shape"
   ]
  },
  {
   "cell_type": "markdown",
   "id": "610f02df-924f-4ea6-9c47-2639006aaea4",
   "metadata": {},
   "source": [
    "### Apply Scaling"
   ]
  },
  {
   "cell_type": "code",
   "execution_count": 13,
   "id": "8dad4a98-57c6-424b-932c-a2d85e73200a",
   "metadata": {},
   "outputs": [],
   "source": [
    "from sklearn.preprocessing import StandardScaler"
   ]
  },
  {
   "cell_type": "code",
   "execution_count": 14,
   "id": "0305a7e8-a8ad-439e-aaf7-10f9080d80a5",
   "metadata": {},
   "outputs": [],
   "source": [
    "Sc = StandardScaler()\n",
    "X_train = Sc.fit_transform(X_train)\n",
    "X_test = Sc.transform(X_test)"
   ]
  },
  {
   "cell_type": "code",
   "execution_count": 15,
   "id": "c8ffd6fe-41c9-4e68-a041-06846ebb8b62",
   "metadata": {
    "scrolled": true
   },
   "outputs": [
    {
     "data": {
      "text/plain": [
       "array([[ 0.35649971, -0.9055496 ,  0.91324755, ...,  0.64920267,\n",
       "         0.97481699,  1.36766974],\n",
       "       [-0.20389777,  0.30164867,  0.91324755, ...,  0.64920267,\n",
       "         0.97481699,  1.6612541 ],\n",
       "       [-0.96147213,  1.50884694,  0.91324755, ...,  0.64920267,\n",
       "        -1.02583358, -0.25280688],\n",
       "       ...,\n",
       "       [ 0.86500853, -0.9055496 , -1.09499335, ..., -1.54035103,\n",
       "        -1.02583358, -0.1427649 ],\n",
       "       [ 0.15932282, -0.9055496 ,  0.91324755, ...,  0.64920267,\n",
       "        -1.02583358, -0.05082558],\n",
       "       [ 0.47065475,  0.30164867,  0.91324755, ...,  0.64920267,\n",
       "         0.97481699, -0.81456811]])"
      ]
     },
     "execution_count": 15,
     "metadata": {},
     "output_type": "execute_result"
    }
   ],
   "source": [
    "X_train"
   ]
  },
  {
   "cell_type": "code",
   "execution_count": 17,
   "id": "e0de1514-3101-47c5-96d8-19caf3cd8f36",
   "metadata": {},
   "outputs": [],
   "source": [
    "#Create ANN\n",
    "import tensorflow as tf\n",
    "from tensorflow.keras.models import Sequential\n",
    "from tensorflow.keras.layers import Dense\n",
    "from tensorflow.keras.layers import LeakyReLU,PReLU,ELU\n",
    "from tensorflow.keras.layers import Dropout"
   ]
  },
  {
   "cell_type": "code",
   "execution_count": 18,
   "id": "86b81172-581a-44fe-a156-2da9b0b0874f",
   "metadata": {},
   "outputs": [
    {
     "name": "stdout",
     "output_type": "stream",
     "text": [
      "WARNING:tensorflow:From C:\\Users\\admin\\anaconda4\\Lib\\site-packages\\keras\\src\\backend.py:873: The name tf.get_default_graph is deprecated. Please use tf.compat.v1.get_default_graph instead.\n",
      "\n"
     ]
    }
   ],
   "source": [
    "classifier = Sequential()"
   ]
  },
  {
   "cell_type": "code",
   "execution_count": 19,
   "id": "c83a5849-bdea-4669-bbab-767f7533ab67",
   "metadata": {},
   "outputs": [],
   "source": [
    "# input layer\n",
    "classifier.add(Dense(units=11,activation = 'relu'))"
   ]
  },
  {
   "cell_type": "code",
   "execution_count": 20,
   "id": "eaa84ce9-8025-4154-b4ef-fd12e9d2f648",
   "metadata": {},
   "outputs": [],
   "source": [
    "# Hidden Layer\n",
    "classifier.add(Dense(units=7,activation = 'relu'))"
   ]
  },
  {
   "cell_type": "code",
   "execution_count": 21,
   "id": "1c2ef56b-ad30-435f-99a1-681f7bfad7de",
   "metadata": {},
   "outputs": [],
   "source": [
    "# hidden layer\n",
    "classifier.add(Dense(units=6,activation='relu'))"
   ]
  },
  {
   "cell_type": "code",
   "execution_count": 22,
   "id": "cd8d8e6a-04b4-43d4-b840-c52604cc24ec",
   "metadata": {},
   "outputs": [],
   "source": [
    "# output layer\n",
    "classifier.add(Dense(units=1,activation = \"sigmoid\"))"
   ]
  },
  {
   "cell_type": "code",
   "execution_count": 24,
   "id": "81313aeb-11d3-4574-bcc8-563a2c26bd33",
   "metadata": {},
   "outputs": [
    {
     "name": "stdout",
     "output_type": "stream",
     "text": [
      "WARNING:tensorflow:From C:\\Users\\admin\\anaconda4\\Lib\\site-packages\\keras\\src\\optimizers\\__init__.py:309: The name tf.train.Optimizer is deprecated. Please use tf.compat.v1.train.Optimizer instead.\n",
      "\n"
     ]
    }
   ],
   "source": [
    "classifier.compile(optimizer='adam',loss='binary_crossentropy',metrics=['accuracy'])"
   ]
  },
  {
   "cell_type": "code",
   "execution_count": 25,
   "id": "fa09cc07-c453-4baa-a497-25c7f4df0ffa",
   "metadata": {},
   "outputs": [
    {
     "name": "stdout",
     "output_type": "stream",
     "text": [
      "Epoch 1/50\n",
      "WARNING:tensorflow:From C:\\Users\\admin\\anaconda4\\Lib\\site-packages\\keras\\src\\utils\\tf_utils.py:492: The name tf.ragged.RaggedTensorValue is deprecated. Please use tf.compat.v1.ragged.RaggedTensorValue instead.\n",
      "\n",
      "WARNING:tensorflow:From C:\\Users\\admin\\anaconda4\\Lib\\site-packages\\keras\\src\\engine\\base_layer_utils.py:384: The name tf.executing_eagerly_outside_functions is deprecated. Please use tf.compat.v1.executing_eagerly_outside_functions instead.\n",
      "\n",
      "536/536 [==============================] - 8s 10ms/step - loss: 0.4967 - accuracy: 0.7820 - val_loss: 0.4577 - val_accuracy: 0.7925\n",
      "Epoch 2/50\n",
      "536/536 [==============================] - 3s 6ms/step - loss: 0.4356 - accuracy: 0.8013 - val_loss: 0.4424 - val_accuracy: 0.8171\n",
      "Epoch 3/50\n",
      "536/536 [==============================] - 4s 8ms/step - loss: 0.4228 - accuracy: 0.8138 - val_loss: 0.4353 - val_accuracy: 0.8194\n",
      "Epoch 4/50\n",
      "536/536 [==============================] - 4s 8ms/step - loss: 0.4134 - accuracy: 0.8225 - val_loss: 0.4307 - val_accuracy: 0.8198\n",
      "Epoch 5/50\n",
      "536/536 [==============================] - 4s 7ms/step - loss: 0.4065 - accuracy: 0.8280 - val_loss: 0.4241 - val_accuracy: 0.8236\n",
      "Epoch 6/50\n",
      "536/536 [==============================] - 4s 8ms/step - loss: 0.3995 - accuracy: 0.8330 - val_loss: 0.4149 - val_accuracy: 0.8273\n",
      "Epoch 7/50\n",
      "536/536 [==============================] - 4s 8ms/step - loss: 0.3904 - accuracy: 0.8350 - val_loss: 0.4097 - val_accuracy: 0.8319\n",
      "Epoch 8/50\n",
      "536/536 [==============================] - 3s 6ms/step - loss: 0.3795 - accuracy: 0.8453 - val_loss: 0.3951 - val_accuracy: 0.8360\n",
      "Epoch 9/50\n",
      "536/536 [==============================] - 4s 8ms/step - loss: 0.3664 - accuracy: 0.8489 - val_loss: 0.3854 - val_accuracy: 0.8410\n",
      "Epoch 10/50\n",
      "536/536 [==============================] - 3s 6ms/step - loss: 0.3562 - accuracy: 0.8541 - val_loss: 0.3763 - val_accuracy: 0.8436\n",
      "Epoch 11/50\n",
      "536/536 [==============================] - 4s 7ms/step - loss: 0.3484 - accuracy: 0.8587 - val_loss: 0.3705 - val_accuracy: 0.8448\n",
      "Epoch 12/50\n",
      "536/536 [==============================] - 4s 8ms/step - loss: 0.3429 - accuracy: 0.8580 - val_loss: 0.3667 - val_accuracy: 0.8482\n",
      "Epoch 13/50\n",
      "536/536 [==============================] - 5s 8ms/step - loss: 0.3395 - accuracy: 0.8599 - val_loss: 0.3649 - val_accuracy: 0.8485\n",
      "Epoch 14/50\n",
      "536/536 [==============================] - 4s 8ms/step - loss: 0.3370 - accuracy: 0.8593 - val_loss: 0.3657 - val_accuracy: 0.8516\n",
      "Epoch 15/50\n",
      "536/536 [==============================] - 4s 7ms/step - loss: 0.3343 - accuracy: 0.8619 - val_loss: 0.3650 - val_accuracy: 0.8512\n",
      "Epoch 16/50\n",
      "536/536 [==============================] - 4s 7ms/step - loss: 0.3333 - accuracy: 0.8628 - val_loss: 0.3634 - val_accuracy: 0.8504\n",
      "Epoch 17/50\n",
      "536/536 [==============================] - 5s 10ms/step - loss: 0.3320 - accuracy: 0.8621 - val_loss: 0.3627 - val_accuracy: 0.8516\n",
      "Epoch 18/50\n",
      "536/536 [==============================] - 5s 9ms/step - loss: 0.3309 - accuracy: 0.8627 - val_loss: 0.3683 - val_accuracy: 0.8523\n",
      "Epoch 19/50\n",
      "536/536 [==============================] - 4s 7ms/step - loss: 0.3305 - accuracy: 0.8628 - val_loss: 0.3626 - val_accuracy: 0.8519\n",
      "Epoch 20/50\n",
      "536/536 [==============================] - 5s 9ms/step - loss: 0.3292 - accuracy: 0.8623 - val_loss: 0.3631 - val_accuracy: 0.8535\n",
      "Epoch 21/50\n",
      "536/536 [==============================] - 5s 9ms/step - loss: 0.3287 - accuracy: 0.8630 - val_loss: 0.3635 - val_accuracy: 0.8523\n",
      "Epoch 22/50\n",
      "536/536 [==============================] - 4s 7ms/step - loss: 0.3276 - accuracy: 0.8656 - val_loss: 0.3648 - val_accuracy: 0.8519\n",
      "Epoch 23/50\n",
      "536/536 [==============================] - 5s 10ms/step - loss: 0.3275 - accuracy: 0.8638 - val_loss: 0.3641 - val_accuracy: 0.8519\n",
      "Epoch 24/50\n",
      "536/536 [==============================] - 6s 10ms/step - loss: 0.3266 - accuracy: 0.8640 - val_loss: 0.3666 - val_accuracy: 0.8516\n",
      "Epoch 25/50\n",
      "536/536 [==============================] - 3s 6ms/step - loss: 0.3263 - accuracy: 0.8649 - val_loss: 0.3637 - val_accuracy: 0.8527\n",
      "Epoch 26/50\n",
      "536/536 [==============================] - 4s 8ms/step - loss: 0.3248 - accuracy: 0.8658 - val_loss: 0.3627 - val_accuracy: 0.8523\n",
      "Epoch 27/50\n",
      "536/536 [==============================] - 4s 8ms/step - loss: 0.3246 - accuracy: 0.8666 - val_loss: 0.3624 - val_accuracy: 0.8497\n",
      "Epoch 28/50\n",
      "536/536 [==============================] - 3s 5ms/step - loss: 0.3237 - accuracy: 0.8649 - val_loss: 0.3637 - val_accuracy: 0.8519\n",
      "Epoch 29/50\n",
      "536/536 [==============================] - 5s 9ms/step - loss: 0.3239 - accuracy: 0.8675 - val_loss: 0.3648 - val_accuracy: 0.8538\n",
      "Epoch 30/50\n",
      "536/536 [==============================] - 5s 10ms/step - loss: 0.3227 - accuracy: 0.8632 - val_loss: 0.3608 - val_accuracy: 0.8516\n",
      "Epoch 31/50\n",
      "536/536 [==============================] - 5s 10ms/step - loss: 0.3226 - accuracy: 0.8677 - val_loss: 0.3654 - val_accuracy: 0.8535\n",
      "Epoch 32/50\n",
      "536/536 [==============================] - 5s 10ms/step - loss: 0.3221 - accuracy: 0.8668 - val_loss: 0.3656 - val_accuracy: 0.8493\n",
      "Epoch 33/50\n",
      "536/536 [==============================] - 5s 9ms/step - loss: 0.3217 - accuracy: 0.8666 - val_loss: 0.3654 - val_accuracy: 0.8493\n",
      "Epoch 34/50\n",
      "536/536 [==============================] - 4s 7ms/step - loss: 0.3215 - accuracy: 0.8656 - val_loss: 0.3660 - val_accuracy: 0.8512\n",
      "Epoch 35/50\n",
      "536/536 [==============================] - 3s 6ms/step - loss: 0.3208 - accuracy: 0.8670 - val_loss: 0.3691 - val_accuracy: 0.8489\n",
      "Epoch 36/50\n",
      "536/536 [==============================] - 3s 5ms/step - loss: 0.3205 - accuracy: 0.8696 - val_loss: 0.3664 - val_accuracy: 0.8508\n",
      "Epoch 37/50\n",
      "536/536 [==============================] - 4s 8ms/step - loss: 0.3199 - accuracy: 0.8688 - val_loss: 0.3702 - val_accuracy: 0.8504\n",
      "Epoch 38/50\n",
      "536/536 [==============================] - 4s 8ms/step - loss: 0.3198 - accuracy: 0.8668 - val_loss: 0.3680 - val_accuracy: 0.8519\n",
      "Epoch 39/50\n",
      "536/536 [==============================] - 4s 8ms/step - loss: 0.3195 - accuracy: 0.8681 - val_loss: 0.3652 - val_accuracy: 0.8512\n",
      "Epoch 40/50\n",
      "536/536 [==============================] - 5s 9ms/step - loss: 0.3196 - accuracy: 0.8677 - val_loss: 0.3646 - val_accuracy: 0.8501\n",
      "Epoch 41/50\n",
      "536/536 [==============================] - 3s 6ms/step - loss: 0.3186 - accuracy: 0.8690 - val_loss: 0.3674 - val_accuracy: 0.8485\n",
      "Epoch 42/50\n",
      "536/536 [==============================] - 5s 9ms/step - loss: 0.3188 - accuracy: 0.8694 - val_loss: 0.3668 - val_accuracy: 0.8485\n",
      "Epoch 43/50\n",
      "536/536 [==============================] - 5s 10ms/step - loss: 0.3192 - accuracy: 0.8690 - val_loss: 0.3679 - val_accuracy: 0.8504\n",
      "Epoch 44/50\n",
      "536/536 [==============================] - 4s 8ms/step - loss: 0.3190 - accuracy: 0.8683 - val_loss: 0.3645 - val_accuracy: 0.8497\n",
      "Epoch 45/50\n",
      "536/536 [==============================] - 5s 9ms/step - loss: 0.3177 - accuracy: 0.8698 - val_loss: 0.3673 - val_accuracy: 0.8501\n",
      "Epoch 46/50\n",
      "536/536 [==============================] - 4s 8ms/step - loss: 0.3178 - accuracy: 0.8703 - val_loss: 0.3661 - val_accuracy: 0.8497\n",
      "Epoch 47/50\n",
      "536/536 [==============================] - 5s 10ms/step - loss: 0.3177 - accuracy: 0.8684 - val_loss: 0.3680 - val_accuracy: 0.8485\n",
      "Epoch 48/50\n",
      "536/536 [==============================] - 4s 7ms/step - loss: 0.3180 - accuracy: 0.8683 - val_loss: 0.3703 - val_accuracy: 0.8501\n",
      "Epoch 49/50\n",
      "536/536 [==============================] - 5s 10ms/step - loss: 0.3173 - accuracy: 0.8701 - val_loss: 0.3683 - val_accuracy: 0.8519\n",
      "Epoch 50/50\n",
      "536/536 [==============================] - 5s 9ms/step - loss: 0.3174 - accuracy: 0.8694 - val_loss: 0.3673 - val_accuracy: 0.8485\n"
     ]
    }
   ],
   "source": [
    "model_history = classifier.fit(X_train,y_train,validation_split=0.33,batch_size = 10,epochs = 25)"
   ]
  },
  {
   "cell_type": "code",
   "execution_count": 26,
   "id": "faf2c70f-dc32-49fb-9eab-8fb8a8fa186e",
   "metadata": {},
   "outputs": [
    {
     "data": {
      "text/plain": [
       "dict_keys(['loss', 'accuracy', 'val_loss', 'val_accuracy'])"
      ]
     },
     "execution_count": 26,
     "metadata": {},
     "output_type": "execute_result"
    }
   ],
   "source": [
    "model_history.history.keys()"
   ]
  },
  {
   "cell_type": "code",
   "execution_count": 29,
   "id": "109e2d33-c67f-4aba-8ae0-194bb3f305f6",
   "metadata": {},
   "outputs": [
    {
     "data": {
      "image/png": "[encoded data removed]",
      "text/plain": [
       "<Figure size 640x480 with 1 Axes>"
      ]
     },
     "metadata": {},
     "output_type": "display_data"
    }
   ],
   "source": [
    "plt.plot(model_history.history['accuracy'])\n",
    "plt.plot(model_history.history['val_accuracy'])\n",
    "plt.title('model accuracy')\n",
    "plt.ylabel('accuracy')\n",
    "plt.xlabel('epoch')\n",
    "plt.legend(['train','test'],loc='upper left')\n",
    "plt.show()"
   ]
  },
  {
   "cell_type": "code",
   "execution_count": 30,
   "id": "c9e97277-1646-4185-9111-3ac0f0723bea",
   "metadata": {},
   "outputs": [
    {
     "data": {
      "image/png": "[encoded data removed]",
      "text/plain": [
       "<Figure size 640x480 with 1 Axes>"
      ]
     },
     "metadata": {},
     "output_type": "display_data"
    }
   ],
   "source": [
    "plt.plot(model_history.history['loss'])\n",
    "plt.plot(model_history.history['val_loss'])\n",
    "plt.ylabel('loss')\n",
    "plt.xlabel('epochs')\n",
    "plt.title('model loss')\n",
    "plt.show()"
   ]
  },
  {
   "cell_type": "code",
   "execution_count": 31,
   "id": "c8be5a61-5081-45d1-9de8-f94ca06fc597",
   "metadata": {},
   "outputs": [
    {
     "name": "stdout",
     "output_type": "stream",
     "text": [
      "63/63 [==============================] - 0s 3ms/step\n"
     ]
    }
   ],
   "source": [
    "# Part 3 - Making the predictions and evaluating the model\n",
    "\n",
    "# Predicting the Test set results\n",
    "y_pred = classifier.predict(X_test)\n",
    "y_pred = (y_pred > 0.5)"
   ]
  },
  {
   "cell_type": "code",
   "execution_count": 32,
   "id": "a034e644-f8fa-4551-944d-6bfff95f8883",
   "metadata": {},
   "outputs": [
    {
     "data": {
      "text/plain": [
       "array([[False],\n",
       "       [False],\n",
       "       [False],\n",
       "       ...,\n",
       "       [ True],\n",
       "       [False],\n",
       "       [False]])"
      ]
     },
     "execution_count": 32,
     "metadata": {},
     "output_type": "execute_result"
    }
   ],
   "source": [
    "y_pred"
   ]
  },
  {
   "cell_type": "code",
   "execution_count": 33,
   "id": "6c1d7012-ee15-4a53-be78-247caa228fbb",
   "metadata": {},
   "outputs": [],
   "source": [
    "# Calculate the Accuracy\n",
    "from sklearn.metrics import accuracy_score\n",
    "score=accuracy_score(y_pred,y_test)"
   ]
  },
  {
   "cell_type": "code",
   "execution_count": 34,
   "id": "24b43f90-1bd0-4a80-adc2-97549ad8266d",
   "metadata": {},
   "outputs": [
    {
     "data": {
      "text/plain": [
       "0.8625"
      ]
     },
     "execution_count": 34,
     "metadata": {},
     "output_type": "execute_result"
    }
   ],
   "source": [
    "score"
   ]
  },
  {
   "cell_type": "code",
   "execution_count": 35,
   "id": "93b82e6a-ca4c-4d95-bce3-4dc8836ba4c6",
   "metadata": {},
   "outputs": [],
   "source": [
    "from sklearn.metrics import confusion_matrix\n",
    "cm = confusion_matrix(y_test,y_pred)"
   ]
  },
  {
   "cell_type": "code",
   "execution_count": 36,
   "id": "fc601ef3-ba0b-4dc0-a888-c25fa5349dee",
   "metadata": {},
   "outputs": [
    {
     "data": {
      "text/plain": [
       "array([[1542,   65],\n",
       "       [ 210,  183]], dtype=int64)"
      ]
     },
     "execution_count": 36,
     "metadata": {},
     "output_type": "execute_result"
    }
   ],
   "source": [
    "cm"
   ]
  },
  {
   "cell_type": "markdown",
   "id": "879add23-3706-4c27-8f99-b1828373fb1a",
   "metadata": {},
   "source": [
    "# ! Thank you"
   ]
  },
  {
   "cell_type": "code",
   "execution_count": null,
   "id": "493137ce-6054-40af-967d-126972a676ca",
   "metadata": {},
   "outputs": [],
   "source": []
  }
 ],
 "metadata": {
  "kernelspec": {
   "display_name": "Python 3 (ipykernel)",
   "language": "python",
   "name": "python3"
  },
  "language_info": {
   "codemirror_mode": {
    "name": "ipython",
    "version": 3
   },
   "file_extension": ".py",
   "mimetype": "text/x-python",
   "name": "python",
   "nbconvert_exporter": "python",
   "pygments_lexer": "ipython3",
   "version": "3.11.5"
  }
 },
 "nbformat": 4,
 "nbformat_minor": 5
}
